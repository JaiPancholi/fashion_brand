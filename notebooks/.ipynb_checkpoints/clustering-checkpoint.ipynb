{
 "cells": [
  {
   "cell_type": "code",
   "execution_count": 33,
   "metadata": {},
   "outputs": [],
   "source": [
    "import numpy as np\n",
    "\n",
    "def read_np_array(filepath):\n",
    "    X = np.load(filepath)\n",
    "    return X\n",
    "\n",
    "\n",
    "\n",
    "filepath= 'embeddings.npy'\n",
    "# filepath= 'label_strings.npy'\n",
    "# filepath= 'labels.npy'\n",
    "\n",
    "X = read_np_array(filepath)\n",
    "filepath= 'label_strings.npy'\n",
    "y = read_np_array(filepath)"
   ]
  },
  {
   "cell_type": "code",
   "execution_count": 35,
   "metadata": {},
   "outputs": [
    {
     "data": {
      "text/plain": [
       "array(['tom_ford', 'tom_ford', 'tom_ford', 'tom_ford', 'tom_ford',\n",
       "       'tom_ford', 'tom_ford', 'tom_ford', 'tom_ford', 'tom_ford',\n",
       "       'tom_ford', 'tom_ford', 'tom_ford', 'tom_ford', 'tom_ford',\n",
       "       'tom_ford', 'tom_ford', 'tom_ford', 'tom_ford', 'tom_ford',\n",
       "       'tom_ford', 'tom_ford', 'tom_ford', 'tom_ford', 'tom_ford',\n",
       "       'tom_ford', 'tom_ford', 'tom_ford', 'tom_ford', 'tom_ford',\n",
       "       'tom_ford', 'tom_ford', 'tom_ford', 'tom_ford', 'tom_ford',\n",
       "       'tom_ford_f1', 'tom_ford_f1', 'tom_ford_f1', 'tom_ford_f1',\n",
       "       'tom_ford_f1', 'tom_ford_f1', 'tom_ford_f1', 'tom_ford_f1',\n",
       "       'tom_ford_f1', 'tom_ford_f1', 'tom_ford_f1', 'tom_ford_f2',\n",
       "       'tom_ford_f2', 'tom_ford_f2', 'tom_ford_f2', 'tom_ford_f2',\n",
       "       'tom_ford_f3', 'tom_ford_f3', 'tom_ford_f3', 'tom_ford_f3',\n",
       "       'tom_ford_f3', 'tom_ford_f3', 'tom_ford_f4', 'tom_ford_f4',\n",
       "       'tom_ford_m1', 'tom_ford_m1', 'tom_ford_m1', 'tom_ford_m1',\n",
       "       'tom_ford_m1'], dtype='<U11')"
      ]
     },
     "execution_count": 35,
     "metadata": {},
     "output_type": "execute_result"
    }
   ],
   "source": [
    "# X[0]\n",
    "# X \n",
    "y"
   ]
  },
  {
   "cell_type": "code",
   "execution_count": 27,
   "metadata": {},
   "outputs": [],
   "source": [
    "from sklearn.decomposition import PCA"
   ]
  },
  {
   "cell_type": "code",
   "execution_count": 28,
   "metadata": {},
   "outputs": [],
   "source": [
    "pca = PCA()\n",
    "X_ = pca.fit_transform(X)"
   ]
  },
  {
   "cell_type": "code",
   "execution_count": 29,
   "metadata": {},
   "outputs": [
    {
     "data": {
      "text/plain": [
       "array([2.15579390e-01, 1.26089428e-01, 9.95436935e-02, 6.88208565e-02,\n",
       "       6.65392593e-02, 5.59846111e-02, 4.55402939e-02, 3.92865167e-02,\n",
       "       3.61617971e-02, 3.50853986e-02, 2.58429295e-02, 1.86890620e-02,\n",
       "       1.67274710e-02, 1.55765897e-02, 1.40672116e-02, 1.34161212e-02,\n",
       "       1.07537903e-02, 9.94064078e-03, 8.61017210e-03, 7.38861924e-03,\n",
       "       7.23442068e-03, 6.37896600e-03, 5.99829028e-03, 5.65603662e-03,\n",
       "       5.45684582e-03, 4.63721002e-03, 4.15486426e-03, 3.66409151e-03,\n",
       "       3.28591130e-03, 3.06463512e-03, 2.86722232e-03, 2.60750847e-03,\n",
       "       2.26708173e-03, 2.10150264e-03, 1.85224995e-03, 1.56813453e-03,\n",
       "       1.48431052e-03, 1.02413550e-03, 9.50063597e-04, 9.07240746e-04,\n",
       "       7.11437335e-04, 5.82189044e-04, 5.17395313e-04, 3.95870003e-04,\n",
       "       3.33123841e-04, 2.45017213e-04, 2.14119830e-04, 1.40470635e-04,\n",
       "       5.50754204e-05, 5.52270832e-07, 3.75548254e-08, 2.53454556e-08,\n",
       "       2.27176349e-08, 1.99320407e-08, 1.45279888e-08, 1.29689414e-08,\n",
       "       1.15810485e-08, 8.96771313e-09, 7.85304457e-09, 7.06344929e-09,\n",
       "       6.08305052e-09, 4.80586666e-10, 4.25155383e-32, 1.12451779e-33])"
      ]
     },
     "execution_count": 29,
     "metadata": {},
     "output_type": "execute_result"
    }
   ],
   "source": [
    "pca.explained_variance_ratio_"
   ]
  },
  {
   "cell_type": "code",
   "execution_count": 23,
   "metadata": {},
   "outputs": [],
   "source": [
    "import matplotlib.pyplot as plt\n",
    "# plt.scatter(X_[0, :], X_[1, :])\n",
    "# plt.show()"
   ]
  },
  {
   "cell_type": "code",
   "execution_count": null,
   "metadata": {},
   "outputs": [],
   "source": [
    "for color, i, target_name in zip(colors, [0, 1, 2], target_names):\n",
    "    plt.scatter(X_r[y == i, 0], X_r[y == i, 1], color=color, alpha=.8, lw=lw,\n",
    "                label=target_name)"
   ]
  },
  {
   "cell_type": "code",
   "execution_count": 45,
   "metadata": {},
   "outputs": [
    {
     "data": {
      "image/png": "[encoded data removed]",
      "text/plain": [
       "<Figure size 432x288 with 1 Axes>"
      ]
     },
     "metadata": {},
     "output_type": "display_data"
    }
   ],
   "source": [
    "labels = np.unique(y)\n",
    "labels = list(labels)\n",
    "labels.remove('tom_ford')\n",
    "\n",
    "for i, target_name in enumerate(labels):\n",
    "    plt.scatter(X[y == target_name, 0], X[y == target_name, 1], label=target_name)\n",
    "plt.show()"
   ]
  },
  {
   "cell_type": "code",
   "execution_count": 21,
   "metadata": {},
   "outputs": [
    {
     "data": {
      "text/plain": [
       "array(['tom_ford'], dtype='<U8')"
      ]
     },
     "execution_count": 21,
     "metadata": {},
     "output_type": "execute_result"
    }
   ],
   "source": [
    "np.unique(y)"
   ]
  },
  {
   "cell_type": "code",
   "execution_count": null,
   "metadata": {},
   "outputs": [],
   "source": []
  }
 ],
 "metadata": {
  "kernelspec": {
   "display_name": "Python 3",
   "language": "python",
   "name": "python3"
  },
  "language_info": {
   "codemirror_mode": {
    "name": "ipython",
    "version": 3
   },
   "file_extension": ".py",
   "mimetype": "text/x-python",
   "name": "python",
   "nbconvert_exporter": "python",
   "pygments_lexer": "ipython3",
   "version": "3.6.4"
  }
 },
 "nbformat": 4,
 "nbformat_minor": 2
}
